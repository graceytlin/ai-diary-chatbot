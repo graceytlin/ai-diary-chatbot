{
 "cells": [
  {
   "cell_type": "code",
   "execution_count": 4,
   "metadata": {},
   "outputs": [],
   "source": [
    "from enum import Enum, auto\n",
    "\n",
    "class STATE(Enum):\n",
    "    GREETING = auto()\n",
    "    RUNNING=auto()\n",
    "    ASKED_NAME=auto()\n",
    "    QUIT=auto()"
   ]
  },
  {
   "cell_type": "code",
   "execution_count": 6,
   "metadata": {},
   "outputs": [],
   "source": [
    "import requests\n",
    "import json"
   ]
  },
  {
   "cell_type": "code",
   "execution_count": 15,
   "metadata": {},
   "outputs": [
    {
     "name": "stdout",
     "output_type": "stream",
     "text": [
      "{\"response\": \"Hey what's your name?\", \"state\": 3}\n",
      "Bot: Hey what's your name?\n",
      "{\"response\": \"Is Nkem your name?  yes|no\", \"state\": 3}\n",
      "Bot: Is Nkem your name?  yes|no\n",
      "{\"response\": \"Hi Nkem! What do you want to do today\", \"state\": 2}\n",
      "Bot: Hi Nkem! What do you want to do today\n"
     ]
    },
    {
     "ename": "KeyboardInterrupt",
     "evalue": "Interrupted by user",
     "output_type": "error",
     "traceback": [
      "\u001b[1;31m---------------------------------------------------------------------------\u001b[0m",
      "\u001b[1;31mKeyboardInterrupt\u001b[0m                         Traceback (most recent call last)",
      "\u001b[1;32mc:\\Users\\Local User\\OneDrive\\Documents\\Uni work\\COM3029\\nlp2022\\nlp2022\\dearbot.ipynb Cell 3'\u001b[0m in \u001b[0;36m<module>\u001b[1;34m\u001b[0m\n\u001b[0;32m     <a href='vscode-notebook-cell:/c%3A/Users/Local%20User/OneDrive/Documents/Uni%20work/COM3029/nlp2022/nlp2022/dearbot.ipynb#ch0000002?line=13'>14</a>\u001b[0m format_bot_response(response)\n\u001b[0;32m     <a href='vscode-notebook-cell:/c%3A/Users/Local%20User/OneDrive/Documents/Uni%20work/COM3029/nlp2022/nlp2022/dearbot.ipynb#ch0000002?line=16'>17</a>\u001b[0m \u001b[39mwhile\u001b[39;00m state \u001b[39m!=\u001b[39m\u001b[39m-\u001b[39m\u001b[39m1\u001b[39m:\n\u001b[1;32m---> <a href='vscode-notebook-cell:/c%3A/Users/Local%20User/OneDrive/Documents/Uni%20work/COM3029/nlp2022/nlp2022/dearbot.ipynb#ch0000002?line=17'>18</a>\u001b[0m     data[\u001b[39m\"\u001b[39m\u001b[39mmsg\u001b[39m\u001b[39m\"\u001b[39m]\u001b[39m=\u001b[39m\u001b[39minput\u001b[39;49m(\u001b[39m\"\u001b[39;49m\u001b[39mUser: \u001b[39;49m\u001b[39m\"\u001b[39;49m)\n\u001b[0;32m     <a href='vscode-notebook-cell:/c%3A/Users/Local%20User/OneDrive/Documents/Uni%20work/COM3029/nlp2022/nlp2022/dearbot.ipynb#ch0000002?line=18'>19</a>\u001b[0m     response, state\u001b[39m=\u001b[39m get_response(\u001b[39m'\u001b[39m\u001b[39mhttp://localhost:5000/get_response\u001b[39m\u001b[39m'\u001b[39m,data)\n\u001b[0;32m     <a href='vscode-notebook-cell:/c%3A/Users/Local%20User/OneDrive/Documents/Uni%20work/COM3029/nlp2022/nlp2022/dearbot.ipynb#ch0000002?line=19'>20</a>\u001b[0m     format_bot_response(response)\n",
      "File \u001b[1;32mc:\\Users\\Local User\\AppData\\Local\\Programs\\Python\\Python39\\lib\\site-packages\\ipykernel\\kernelbase.py:1075\u001b[0m, in \u001b[0;36mKernel.raw_input\u001b[1;34m(self, prompt)\u001b[0m\n\u001b[0;32m   <a href='file:///c%3A/Users/Local%20User/AppData/Local/Programs/Python/Python39/lib/site-packages/ipykernel/kernelbase.py?line=1070'>1071</a>\u001b[0m \u001b[39mif\u001b[39;00m \u001b[39mnot\u001b[39;00m \u001b[39mself\u001b[39m\u001b[39m.\u001b[39m_allow_stdin:\n\u001b[0;32m   <a href='file:///c%3A/Users/Local%20User/AppData/Local/Programs/Python/Python39/lib/site-packages/ipykernel/kernelbase.py?line=1071'>1072</a>\u001b[0m     \u001b[39mraise\u001b[39;00m StdinNotImplementedError(\n\u001b[0;32m   <a href='file:///c%3A/Users/Local%20User/AppData/Local/Programs/Python/Python39/lib/site-packages/ipykernel/kernelbase.py?line=1072'>1073</a>\u001b[0m         \u001b[39m\"\u001b[39m\u001b[39mraw_input was called, but this frontend does not support input requests.\u001b[39m\u001b[39m\"\u001b[39m\n\u001b[0;32m   <a href='file:///c%3A/Users/Local%20User/AppData/Local/Programs/Python/Python39/lib/site-packages/ipykernel/kernelbase.py?line=1073'>1074</a>\u001b[0m     )\n\u001b[1;32m-> <a href='file:///c%3A/Users/Local%20User/AppData/Local/Programs/Python/Python39/lib/site-packages/ipykernel/kernelbase.py?line=1074'>1075</a>\u001b[0m \u001b[39mreturn\u001b[39;00m \u001b[39mself\u001b[39;49m\u001b[39m.\u001b[39;49m_input_request(\n\u001b[0;32m   <a href='file:///c%3A/Users/Local%20User/AppData/Local/Programs/Python/Python39/lib/site-packages/ipykernel/kernelbase.py?line=1075'>1076</a>\u001b[0m     \u001b[39mstr\u001b[39;49m(prompt),\n\u001b[0;32m   <a href='file:///c%3A/Users/Local%20User/AppData/Local/Programs/Python/Python39/lib/site-packages/ipykernel/kernelbase.py?line=1076'>1077</a>\u001b[0m     \u001b[39mself\u001b[39;49m\u001b[39m.\u001b[39;49m_parent_ident[\u001b[39m\"\u001b[39;49m\u001b[39mshell\u001b[39;49m\u001b[39m\"\u001b[39;49m],\n\u001b[0;32m   <a href='file:///c%3A/Users/Local%20User/AppData/Local/Programs/Python/Python39/lib/site-packages/ipykernel/kernelbase.py?line=1077'>1078</a>\u001b[0m     \u001b[39mself\u001b[39;49m\u001b[39m.\u001b[39;49mget_parent(\u001b[39m\"\u001b[39;49m\u001b[39mshell\u001b[39;49m\u001b[39m\"\u001b[39;49m),\n\u001b[0;32m   <a href='file:///c%3A/Users/Local%20User/AppData/Local/Programs/Python/Python39/lib/site-packages/ipykernel/kernelbase.py?line=1078'>1079</a>\u001b[0m     password\u001b[39m=\u001b[39;49m\u001b[39mFalse\u001b[39;49;00m,\n\u001b[0;32m   <a href='file:///c%3A/Users/Local%20User/AppData/Local/Programs/Python/Python39/lib/site-packages/ipykernel/kernelbase.py?line=1079'>1080</a>\u001b[0m )\n",
      "File \u001b[1;32mc:\\Users\\Local User\\AppData\\Local\\Programs\\Python\\Python39\\lib\\site-packages\\ipykernel\\kernelbase.py:1120\u001b[0m, in \u001b[0;36mKernel._input_request\u001b[1;34m(self, prompt, ident, parent, password)\u001b[0m\n\u001b[0;32m   <a href='file:///c%3A/Users/Local%20User/AppData/Local/Programs/Python/Python39/lib/site-packages/ipykernel/kernelbase.py?line=1116'>1117</a>\u001b[0m             \u001b[39mbreak\u001b[39;00m\n\u001b[0;32m   <a href='file:///c%3A/Users/Local%20User/AppData/Local/Programs/Python/Python39/lib/site-packages/ipykernel/kernelbase.py?line=1117'>1118</a>\u001b[0m \u001b[39mexcept\u001b[39;00m \u001b[39mKeyboardInterrupt\u001b[39;00m:\n\u001b[0;32m   <a href='file:///c%3A/Users/Local%20User/AppData/Local/Programs/Python/Python39/lib/site-packages/ipykernel/kernelbase.py?line=1118'>1119</a>\u001b[0m     \u001b[39m# re-raise KeyboardInterrupt, to truncate traceback\u001b[39;00m\n\u001b[1;32m-> <a href='file:///c%3A/Users/Local%20User/AppData/Local/Programs/Python/Python39/lib/site-packages/ipykernel/kernelbase.py?line=1119'>1120</a>\u001b[0m     \u001b[39mraise\u001b[39;00m \u001b[39mKeyboardInterrupt\u001b[39;00m(\u001b[39m\"\u001b[39m\u001b[39mInterrupted by user\u001b[39m\u001b[39m\"\u001b[39m) \u001b[39mfrom\u001b[39;00m \u001b[39mNone\u001b[39m\n\u001b[0;32m   <a href='file:///c%3A/Users/Local%20User/AppData/Local/Programs/Python/Python39/lib/site-packages/ipykernel/kernelbase.py?line=1120'>1121</a>\u001b[0m \u001b[39mexcept\u001b[39;00m \u001b[39mException\u001b[39;00m:\n\u001b[0;32m   <a href='file:///c%3A/Users/Local%20User/AppData/Local/Programs/Python/Python39/lib/site-packages/ipykernel/kernelbase.py?line=1121'>1122</a>\u001b[0m     \u001b[39mself\u001b[39m\u001b[39m.\u001b[39mlog\u001b[39m.\u001b[39mwarning(\u001b[39m\"\u001b[39m\u001b[39mInvalid Message:\u001b[39m\u001b[39m\"\u001b[39m, exc_info\u001b[39m=\u001b[39m\u001b[39mTrue\u001b[39;00m)\n",
      "\u001b[1;31mKeyboardInterrupt\u001b[0m: Interrupted by user"
     ]
    }
   ],
   "source": [
    "data = {}\n",
    "state = 0\n",
    "def get_response(url,data):\n",
    "    response = requests.post(url,json=data)\n",
    "    print(response.text)\n",
    "    response = json.loads(response.text)\n",
    "    return response[\"response\"], response[\"state\"]\n",
    "\n",
    "def format_bot_response(response):\n",
    "    print(\"Bot: {}\".format(response))\n",
    "\n",
    "data={\"msg\":None}\n",
    "response, state= get_response('http://localhost:5000/start_greeting',data)\n",
    "format_bot_response(response)\n",
    "\n",
    "\n",
    "while state !=-1:\n",
    "    data[\"msg\"]=input(\"User: \")\n",
    "    response, state= get_response('http://localhost:5000/get_response',data)\n",
    "    format_bot_response(response)\n",
    "\n",
    "print(\"Client closed\")"
   ]
  }
 ],
 "metadata": {
  "interpreter": {
   "hash": "c18d149b1430996ab208b97416b2929d11b8b835656007a7ca35232ab6bc079f"
  },
  "kernelspec": {
   "display_name": "Python 3.9.7 64-bit",
   "language": "python",
   "name": "python3"
  },
  "language_info": {
   "codemirror_mode": {
    "name": "ipython",
    "version": 3
   },
   "file_extension": ".py",
   "mimetype": "text/x-python",
   "name": "python",
   "nbconvert_exporter": "python",
   "pygments_lexer": "ipython3",
   "version": "3.9.7"
  },
  "orig_nbformat": 4
 },
 "nbformat": 4,
 "nbformat_minor": 2
}
